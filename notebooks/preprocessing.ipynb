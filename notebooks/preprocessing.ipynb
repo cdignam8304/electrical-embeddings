{
 "cells": [
  {
   "cell_type": "markdown",
   "metadata": {},
   "source": [
    "<div style=\"text-align: center; font-size: 24px;\">Word Embeddings for Electrical Engineering</div>\n",
    "<hr>"
   ]
  },
  {
   "cell_type": "markdown",
   "metadata": {},
   "source": [
    "### Libraries"
   ]
  },
  {
   "cell_type": "code",
   "execution_count": 220,
   "metadata": {},
   "outputs": [],
   "source": [
    "# !pip install wikipedia\n",
    "# !pip install --upgrade gensim"
   ]
  },
  {
   "cell_type": "code",
   "execution_count": 221,
   "metadata": {},
   "outputs": [],
   "source": [
    "import pandas as pd\n",
    "import matplotlib\n",
    "from matplotlib import pyplot as plt\n",
    "%matplotlib inline\n",
    "import warnings\n",
    "warnings.filterwarnings(\"ignore\")"
   ]
  },
  {
   "cell_type": "code",
   "execution_count": 222,
   "metadata": {},
   "outputs": [],
   "source": [
    "import wikipedia"
   ]
  },
  {
   "cell_type": "code",
   "execution_count": 257,
   "metadata": {},
   "outputs": [],
   "source": [
    "wikipedia.set_lang(\"en\")"
   ]
  },
  {
   "cell_type": "code",
   "execution_count": 223,
   "metadata": {},
   "outputs": [],
   "source": [
    "import gensim, logging\n",
    "from gensim.parsing.preprocessing import remove_stopwords"
   ]
  },
  {
   "cell_type": "code",
   "execution_count": 224,
   "metadata": {},
   "outputs": [],
   "source": [
    "logging.basicConfig(format='%(asctime)s : %(levelname)s : %(message)s', level=logging.INFO)"
   ]
  },
  {
   "cell_type": "markdown",
   "metadata": {},
   "source": [
    "### Get corpus from Wikipedia"
   ]
  },
  {
   "cell_type": "code",
   "execution_count": 290,
   "metadata": {},
   "outputs": [],
   "source": [
    "search_term = \"power supply\""
   ]
  },
  {
   "cell_type": "code",
   "execution_count": 291,
   "metadata": {},
   "outputs": [
    {
     "name": "stdout",
     "output_type": "stream",
     "text": [
      "None\n"
     ]
    }
   ],
   "source": [
    "print(wikipedia.suggest(search_term))"
   ]
  },
  {
   "cell_type": "code",
   "execution_count": 294,
   "metadata": {},
   "outputs": [
    {
     "data": {
      "text/plain": [
       "['Power supply',\n",
       " 'Uninterruptible power supply',\n",
       " 'Power supply unit (computer)',\n",
       " 'Switched-mode power supply',\n",
       " 'Welding power supply',\n",
       " 'IC power-supply pin',\n",
       " 'Regulated power supply',\n",
       " 'Mains electricity',\n",
       " 'AC adapter',\n",
       " 'Electric power']"
      ]
     },
     "execution_count": 294,
     "metadata": {},
     "output_type": "execute_result"
    }
   ],
   "source": [
    "wikipedia.search(search_term)"
   ]
  },
  {
   "cell_type": "code",
   "execution_count": 295,
   "metadata": {},
   "outputs": [
    {
     "data": {
      "text/plain": [
       "'A power supply is an electrical device that supplies electric power to an electrical load. The primary function of a power supply is to convert electric current from a source to the correct voltage, current, and frequency to power the load. As a result, power supplies are sometimes referred to as electric power converters.'"
      ]
     },
     "execution_count": 295,
     "metadata": {},
     "output_type": "execute_result"
    }
   ],
   "source": [
    "wikipedia.summary(search_term, sentences=3)"
   ]
  },
  {
   "cell_type": "code",
   "execution_count": 296,
   "metadata": {},
   "outputs": [
    {
     "data": {
      "text/plain": [
       "'Power supply'"
      ]
     },
     "execution_count": 296,
     "metadata": {},
     "output_type": "execute_result"
    }
   ],
   "source": [
    "wikipedia.page(search_term).title"
   ]
  },
  {
   "cell_type": "code",
   "execution_count": 297,
   "metadata": {},
   "outputs": [
    {
     "data": {
      "text/plain": [
       "'https://en.wikipedia.org/wiki/Power_supply'"
      ]
     },
     "execution_count": 297,
     "metadata": {},
     "output_type": "execute_result"
    }
   ],
   "source": [
    "wikipedia.page(search_term).url"
   ]
  },
  {
   "cell_type": "code",
   "execution_count": 298,
   "metadata": {},
   "outputs": [
    {
     "data": {
      "text/plain": [
       "'A power supply is an electrical device that supplies electric power to an electrical load. The primary function of a power supply is to convert electric current from a source to the correct voltage, current, and frequency to power the load. As a result, power supplies are sometimes referred to as electric power converters. Some power supplies are separate standalone pieces of equipment, while others are built into the load appliances that they power. Examples of the latter include power supplies'"
      ]
     },
     "execution_count": 298,
     "metadata": {},
     "output_type": "execute_result"
    }
   ],
   "source": [
    "wikipedia.page(search_term).content[:500] # full page text content"
   ]
  },
  {
   "cell_type": "code",
   "execution_count": 299,
   "metadata": {
    "scrolled": true
   },
   "outputs": [
    {
     "name": "stdout",
     "output_type": "stream",
     "text": [
      "['AC/DC receiver', 'AC adapter', 'AC power supply', 'Alternating current', 'Alternator', 'Ampere', 'Arc welding', 'Arcing', 'Autotransformer', 'Battery (electricity)', 'Capacitive power supply', 'Capacitor', 'Cartesian coordinate system', 'Circuit breaker', 'Conduction (heat)', 'Consumer electronics', 'Convection', 'Crowbar (circuit)', 'Crystal growth', 'Current (electricity)', 'Current limiting', 'Current source', 'Desktop computer', 'Direct current', 'Domestic AC power plugs and sockets', 'Dummy load', 'Duty cycle', 'Electric current', 'Electric power', 'Electric power converter', 'Electric power grid', 'Electric vehicle', 'Electrical fault', 'Electrical generator', 'Electrical generators', 'Electrical load', 'Electrical outlet', 'Electricity generation', 'Electron microscope', 'Electronic filter', 'Electronic noise', 'Electrophoresis', 'Electrostatics', 'Energy storage', 'Focused ion beam', 'Foldback (power supply design)', 'Frequency', 'Fuel cell', 'Fuse (electrical)', 'Fusible link', 'GPIB', 'Galvanic isolation', 'Heat sinks', 'High-frequency', 'High voltage', 'ISBN (identifier)', 'Internal combustion engine', 'Isolation transformer', 'Kepco Power', 'Line conditioner', 'Linear regulator', 'Mains electricity', 'Mains electricity by country', 'Mains supply', 'Microprocessor', 'Motor–generator', 'Operational amplifier', 'Power-factor correction', 'Power cord', 'Power factor', 'Power good', 'Power inverter', 'Power strip', 'Power supply (disambiguation)', 'Power supply unit (computer)', 'Power system harmonics', 'Printed circuit board', 'RS232', 'Rack mount', 'Rectifier', 'Regulated power supply', 'SHV connector', 'Semiconductor', 'Sense (electronics)', 'Short circuit', 'Single-phase electric power', 'Solar power', 'Spot welding', 'Standard Commands for Programmable Instruments', 'Switched-mode power supply', 'Tesla coil', 'Three-phase', 'Transformer', 'Uninterruptable power supply', 'Uninterruptible power supply', 'Utility frequency', 'Variac', 'Voltage', 'Voltage divider', 'Voltage multiplier', 'Voltage regulator', 'Voltage surge', 'Welding power supply', 'Wireless power', 'X-ray generator']\n"
     ]
    }
   ],
   "source": [
    "print(wikipedia.page(search_term).links) # links to other wikipedia pages"
   ]
  },
  {
   "cell_type": "code",
   "execution_count": 300,
   "metadata": {},
   "outputs": [],
   "source": [
    "# wikipedia.summary(\"machine learning\", sentences=3) # errors out. not sure why"
   ]
  },
  {
   "cell_type": "code",
   "execution_count": 301,
   "metadata": {},
   "outputs": [],
   "source": [
    "# circuit_breaker.sections"
   ]
  },
  {
   "cell_type": "markdown",
   "metadata": {},
   "source": [
    "### Train Word2Vec"
   ]
  },
  {
   "cell_type": "markdown",
   "metadata": {},
   "source": [
    "Refer to following tutorial:\n",
    "https://rare-technologies.com/word2vec-tutorial/\n",
    "\n",
    "In particular, for how to train on datasets that don't fit in memory.\n",
    "\n",
    "For now, we'll follow the simple example where data loaded in memory."
   ]
  },
  {
   "cell_type": "code",
   "execution_count": 311,
   "metadata": {},
   "outputs": [],
   "source": [
    "import re, string\n",
    "\n",
    "pattern = re.compile('[^a-zA-Z0-9\\., ]')\n",
    "\n",
    "pages = [\n",
    "    \"Schneider Electric\",\n",
    "    \"APC by Schneider Electric\",\n",
    "    \"Schneider-Creusot\",\n",
    "    \"SolarEdge\",\n",
    "    \"Aveva\",\n",
    "    \"Schneider Electric DMS\",\n",
    "    \"Modbus\",\n",
    "    \"Electric switchboard\",\n",
    "    \"Circuit breaker\",\n",
    "    \"Distribution board\",\n",
    "    \"Electrical engineering\",\n",
    "    \"power supply\",\n",
    "]\n",
    "\n",
    "content = \" \".join([wikipedia.page(page).content + \" \" for page in pages])\n",
    "\n",
    "clean_content = pattern.sub(\" \" , content.lower().replace(\"\\n\", \" \").replace(\",\", \" \"))\n",
    "clean_content = re.sub(' +', ' ', clean_content) # remove double-spaces\n",
    "clean_content = remove_stopwords(clean_content)"
   ]
  },
  {
   "cell_type": "code",
   "execution_count": 312,
   "metadata": {},
   "outputs": [
    {
     "data": {
      "text/plain": [
       "'schneider electric european multinational company providing energy automation digital solutions efficiency sustainability. addresses homes buildings data centers infrastructure industries combining energy technologies real time automation software services. company operations 100 countries employs 135 000 people.schneider electric fortune global 500 company publicly traded euronext exchange component euro stoxx 50 stock market index. fy2019 company posted revenues 27.2 billion.schneider electric'"
      ]
     },
     "execution_count": 312,
     "metadata": {},
     "output_type": "execute_result"
    }
   ],
   "source": [
    "clean_content[:500]"
   ]
  },
  {
   "cell_type": "code",
   "execution_count": 313,
   "metadata": {},
   "outputs": [
    {
     "name": "stdout",
     "output_type": "stream",
     "text": [
      "String length of clean_content: 121495 characters.\n"
     ]
    }
   ],
   "source": [
    "print(f\"String length of clean_content: {len(clean_content)} characters.\")"
   ]
  },
  {
   "cell_type": "code",
   "execution_count": 314,
   "metadata": {},
   "outputs": [
    {
     "name": "stdout",
     "output_type": "stream",
     "text": [
      "Number of words in clean_content: 15784 words.\n"
     ]
    }
   ],
   "source": [
    "print(f\"Number of words in clean_content: {len(clean_content.split(' '))} words.\")"
   ]
  },
  {
   "cell_type": "code",
   "execution_count": 315,
   "metadata": {},
   "outputs": [
    {
     "name": "stdout",
     "output_type": "stream",
     "text": [
      "Number of uniquewords in clean_content: 4872 words.\n"
     ]
    }
   ],
   "source": [
    "print(f\"Number of uniquewords in clean_content: {len(set(clean_content.split(' ')))} words.\")"
   ]
  },
  {
   "cell_type": "code",
   "execution_count": 316,
   "metadata": {},
   "outputs": [],
   "source": [
    "sentences = [s.split(\" \") for s in clean_content.split(\".\")]"
   ]
  },
  {
   "cell_type": "code",
   "execution_count": 317,
   "metadata": {},
   "outputs": [
    {
     "name": "stdout",
     "output_type": "stream",
     "text": [
      "1368\n"
     ]
    }
   ],
   "source": [
    "print(len(sentences))"
   ]
  },
  {
   "cell_type": "code",
   "execution_count": 318,
   "metadata": {},
   "outputs": [
    {
     "name": "stderr",
     "output_type": "stream",
     "text": [
      "2020-11-11 11:42:41,492 : WARNING : consider setting layer size to a multiple of 4 for greater performance\n",
      "2020-11-11 11:42:41,493 : INFO : collecting all words and their counts\n",
      "2020-11-11 11:42:41,494 : INFO : PROGRESS: at sentence #0, processed 0 words, keeping 0 word types\n",
      "2020-11-11 11:42:41,499 : INFO : collected 4357 word types from a corpus of 17151 raw words and 1368 sentences\n",
      "2020-11-11 11:42:41,500 : INFO : Loading a fresh vocabulary\n",
      "2020-11-11 11:42:41,505 : INFO : effective_min_count=2 retains 2034 unique words (46% of original 4357, drops 2323)\n",
      "2020-11-11 11:42:41,506 : INFO : effective_min_count=2 leaves 14828 word corpus (86% of original 17151, drops 2323)\n",
      "2020-11-11 11:42:41,513 : INFO : deleting the raw counts dictionary of 4357 items\n",
      "2020-11-11 11:42:41,513 : INFO : sample=0.001 downsamples 43 most-common words\n",
      "2020-11-11 11:42:41,514 : INFO : downsampling leaves estimated 12482 word corpus (84.2% of prior 14828)\n",
      "2020-11-11 11:42:41,519 : INFO : estimated required memory for 2034 words and 10 dimensions: 1179720 bytes\n",
      "2020-11-11 11:42:41,520 : INFO : resetting layer weights\n",
      "2020-11-11 11:42:41,998 : INFO : training model with 4 workers on 2034 vocabulary and 10 features, using sg=0 hs=0 sample=0.001 negative=5 window=5\n",
      "2020-11-11 11:42:42,006 : INFO : worker thread finished; awaiting finish of 3 more threads\n",
      "2020-11-11 11:42:42,019 : INFO : worker thread finished; awaiting finish of 2 more threads\n",
      "2020-11-11 11:42:42,020 : INFO : worker thread finished; awaiting finish of 1 more threads\n",
      "2020-11-11 11:42:42,023 : INFO : worker thread finished; awaiting finish of 0 more threads\n",
      "2020-11-11 11:42:42,024 : INFO : EPOCH - 1 : training on 17151 raw words (12504 effective words) took 0.0s, 596521 effective words/s\n",
      "2020-11-11 11:42:42,032 : INFO : worker thread finished; awaiting finish of 3 more threads\n",
      "2020-11-11 11:42:42,045 : INFO : worker thread finished; awaiting finish of 2 more threads\n",
      "2020-11-11 11:42:42,047 : INFO : worker thread finished; awaiting finish of 1 more threads\n",
      "2020-11-11 11:42:42,047 : INFO : worker thread finished; awaiting finish of 0 more threads\n",
      "2020-11-11 11:42:42,050 : INFO : EPOCH - 2 : training on 17151 raw words (12495 effective words) took 0.0s, 597467 effective words/s\n",
      "2020-11-11 11:42:42,057 : INFO : worker thread finished; awaiting finish of 3 more threads\n",
      "2020-11-11 11:42:42,059 : INFO : worker thread finished; awaiting finish of 2 more threads\n",
      "2020-11-11 11:42:42,069 : INFO : worker thread finished; awaiting finish of 1 more threads\n",
      "2020-11-11 11:42:42,075 : INFO : worker thread finished; awaiting finish of 0 more threads\n",
      "2020-11-11 11:42:42,076 : INFO : EPOCH - 3 : training on 17151 raw words (12527 effective words) took 0.0s, 578515 effective words/s\n",
      "2020-11-11 11:42:42,086 : INFO : worker thread finished; awaiting finish of 3 more threads\n",
      "2020-11-11 11:42:42,095 : INFO : worker thread finished; awaiting finish of 2 more threads\n",
      "2020-11-11 11:42:42,098 : INFO : worker thread finished; awaiting finish of 1 more threads\n",
      "2020-11-11 11:42:42,100 : INFO : worker thread finished; awaiting finish of 0 more threads\n",
      "2020-11-11 11:42:42,101 : INFO : EPOCH - 4 : training on 17151 raw words (12517 effective words) took 0.0s, 693746 effective words/s\n",
      "2020-11-11 11:42:42,109 : INFO : worker thread finished; awaiting finish of 3 more threads\n",
      "2020-11-11 11:42:42,122 : INFO : worker thread finished; awaiting finish of 2 more threads\n",
      "2020-11-11 11:42:42,124 : INFO : worker thread finished; awaiting finish of 1 more threads\n",
      "2020-11-11 11:42:42,125 : INFO : worker thread finished; awaiting finish of 0 more threads\n",
      "2020-11-11 11:42:42,128 : INFO : EPOCH - 5 : training on 17151 raw words (12484 effective words) took 0.0s, 573458 effective words/s\n",
      "2020-11-11 11:42:42,128 : INFO : training on a 85755 raw words (62527 effective words) took 0.1s, 483418 effective words/s\n",
      "2020-11-11 11:42:42,131 : WARNING : under 10 jobs per worker: consider setting a smaller `batch_words' for smoother alpha decay\n"
     ]
    }
   ],
   "source": [
    "model = gensim.models.Word2Vec(\n",
    "    sentences,\n",
    "    min_count=2, # min number of times word in corpus, otherwise ignored\n",
    "    size=10, # number of layers in NN. Default=100\n",
    "    workers=4, # for parallelization. Default=1. Requires Cython.\n",
    ")"
   ]
  },
  {
   "cell_type": "code",
   "execution_count": 319,
   "metadata": {},
   "outputs": [
    {
     "name": "stderr",
     "output_type": "stream",
     "text": [
      "2020-11-11 11:42:42,140 : INFO : precomputing L2-norms of word weight vectors\n"
     ]
    },
    {
     "data": {
      "text/plain": [
       "[('function', 0.9993293285369873),\n",
       " ('16', 0.999035120010376),\n",
       " ('systems', 0.9989442229270935),\n",
       " ('high', 0.9988926649093628),\n",
       " ('circuits', 0.9988582134246826),\n",
       " ('power', 0.9986993074417114),\n",
       " ('breaker', 0.9986612796783447),\n",
       " ('world', 0.998583197593689),\n",
       " ('', 0.9985527992248535),\n",
       " ('input', 0.998307466506958)]"
      ]
     },
     "execution_count": 319,
     "metadata": {},
     "output_type": "execute_result"
    }
   ],
   "source": [
    "# model.most_similar(positive=['woman', 'king'], negative=['man'], topn=1)\n",
    "model.wv.most_similar(\"distribution\")"
   ]
  },
  {
   "cell_type": "code",
   "execution_count": null,
   "metadata": {},
   "outputs": [],
   "source": []
  }
 ],
 "metadata": {
  "kernelspec": {
   "display_name": "conda_python3",
   "language": "python",
   "name": "conda_python3"
  },
  "language_info": {
   "codemirror_mode": {
    "name": "ipython",
    "version": 3
   },
   "file_extension": ".py",
   "mimetype": "text/x-python",
   "name": "python",
   "nbconvert_exporter": "python",
   "pygments_lexer": "ipython3",
   "version": "3.6.10"
  }
 },
 "nbformat": 4,
 "nbformat_minor": 4
}
